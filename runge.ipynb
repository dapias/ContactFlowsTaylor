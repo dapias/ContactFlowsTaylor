{
 "cells": [
  {
   "cell_type": "code",
   "execution_count": 62,
   "metadata": {
    "collapsed": false
   },
   "outputs": [
    {
     "data": {
      "text/plain": [
       "contactIntegration (generic function with 2 methods)"
      ]
     },
     "execution_count": 62,
     "metadata": {},
     "output_type": "execute_result"
    }
   ],
   "source": [
    "include(\"contactRungeKutta.jl\")"
   ]
  },
  {
   "cell_type": "code",
   "execution_count": 63,
   "metadata": {
    "collapsed": false
   },
   "outputs": [
    {
     "data": {
      "text/plain": [
       "10000"
      ]
     },
     "execution_count": 63,
     "metadata": {},
     "output_type": "execute_result"
    }
   ],
   "source": [
    "nsteps = 10000"
   ]
  },
  {
   "cell_type": "code",
   "execution_count": 64,
   "metadata": {
    "collapsed": false
   },
   "outputs": [],
   "source": [
    "condinicial = [-0.005055984542474915,-0.015870003384642107,67.88916125663044];"
   ]
  },
  {
   "cell_type": "code",
   "execution_count": 65,
   "metadata": {
    "collapsed": false
   },
   "outputs": [],
   "source": [
    "deltat = 0.01;"
   ]
  },
  {
   "cell_type": "code",
   "execution_count": 66,
   "metadata": {
    "collapsed": false
   },
   "outputs": [
    {
     "data": {
      "text/plain": [
       "([0.0,0.01,0.01,0.01,0.01,0.01,0.01,0.01,0.01,0.01  …  0.01,0.01,0.01,0.01,0.01,0.01,0.01,0.01,0.01,0.01],[-0.00505598,-0.0101012,-0.0140583,-0.016407,-0.0167946,-0.0150935,-0.0114374,-0.00622383,-8.30489e-5,0.00619015  …  NaN,NaN,NaN,NaN,NaN,NaN,NaN,NaN,NaN,NaN],[-0.01587,-0.0134077,-0.0093184,-0.00402929,0.0018579,0.0076294,0.0125429,0.0159236,0.0172604,0.0162902  …  NaN,NaN,NaN,NaN,NaN,NaN,NaN,NaN,NaN,NaN],[67.8892,68.5716,69.2609,69.9571,70.6604,71.3707,72.0882,72.8128,73.5447,74.2839  …  NaN,NaN,NaN,NaN,NaN,NaN,NaN,NaN,NaN,NaN])"
      ]
     },
     "execution_count": 66,
     "metadata": {},
     "output_type": "execute_result"
    }
   ],
   "source": [
    "contactIntegration(campoContacto, nsteps, condinicial,deltat)"
   ]
  },
  {
   "cell_type": "code",
   "execution_count": null,
   "metadata": {
    "collapsed": true
   },
   "outputs": [],
   "source": []
  }
 ],
 "metadata": {
  "kernelspec": {
   "display_name": "Julia 0.3.11",
   "language": "julia",
   "name": "julia-0.3"
  },
  "language_info": {
   "file_extension": ".jl",
   "mimetype": "application/julia",
   "name": "julia",
   "version": "0.3.11"
  }
 },
 "nbformat": 4,
 "nbformat_minor": 0
}
